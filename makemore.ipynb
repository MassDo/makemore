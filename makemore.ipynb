{
 "cells": [
  {
   "cell_type": "code",
   "execution_count": 41,
   "id": "985c17e8",
   "metadata": {},
   "outputs": [],
   "source": [
    "words = open('names.txt', 'r').read().splitlines()"
   ]
  },
  {
   "cell_type": "code",
   "execution_count": 42,
   "id": "7a4893cd",
   "metadata": {},
   "outputs": [
    {
     "data": {
      "text/plain": [
       "['emma',\n",
       " 'olivia',\n",
       " 'ava',\n",
       " 'isabella',\n",
       " 'sophia',\n",
       " 'charlotte',\n",
       " 'mia',\n",
       " 'amelia',\n",
       " 'harper',\n",
       " 'evelyn']"
      ]
     },
     "execution_count": 42,
     "metadata": {},
     "output_type": "execute_result"
    }
   ],
   "source": [
    "words[:10]"
   ]
  },
  {
   "cell_type": "code",
   "execution_count": 37,
   "id": "4ea7b2f3",
   "metadata": {},
   "outputs": [
    {
     "data": {
      "text/plain": [
       "2"
      ]
     },
     "execution_count": 37,
     "metadata": {},
     "output_type": "execute_result"
    }
   ],
   "source": [
    "min(len(w) for w in words)"
   ]
  },
  {
   "cell_type": "code",
   "execution_count": 38,
   "id": "1640a663",
   "metadata": {},
   "outputs": [
    {
     "data": {
      "text/plain": [
       "15"
      ]
     },
     "execution_count": 38,
     "metadata": {},
     "output_type": "execute_result"
    }
   ],
   "source": [
    "max(len(w )for w in words)"
   ]
  },
  {
   "cell_type": "markdown",
   "id": "ebbb6ec8",
   "metadata": {},
   "source": [
    "**Start with Bigram approach**"
   ]
  },
  {
   "cell_type": "code",
   "execution_count": 62,
   "id": "3f205bb7",
   "metadata": {},
   "outputs": [
    {
     "name": "stdout",
     "output_type": "stream",
     "text": [
      "<S> e\n",
      "e m\n",
      "m m\n",
      "m a\n",
      "a <E>\n",
      "<S> o\n",
      "o l\n",
      "l i\n",
      "i v\n",
      "v i\n",
      "i a\n",
      "a <E>\n",
      "<S> a\n",
      "a v\n",
      "v a\n",
      "a <E>\n"
     ]
    }
   ],
   "source": [
    "for w in words[:3]:\n",
    "    chs = ['<S>'] + list(w) + ['<E>']\n",
    "    for w1, w2 in zip(chs, chs[1:]):\n",
    "        print(w1, w2)"
   ]
  },
  {
   "cell_type": "markdown",
   "id": "ada527b2",
   "metadata": {},
   "source": [
    "We need to count the occurence of the bigrams."
   ]
  },
  {
   "cell_type": "code",
   "execution_count": 61,
   "id": "b4fc24db",
   "metadata": {},
   "outputs": [
    {
     "data": {
      "text/plain": [
       "{('<S>', 'e'): 1,\n",
       " ('e', 'm'): 1,\n",
       " ('m', 'm'): 1,\n",
       " ('m', 'a'): 1,\n",
       " ('a', '<E>'): 3,\n",
       " ('<S>', 'o'): 1,\n",
       " ('o', 'l'): 1,\n",
       " ('l', 'i'): 1,\n",
       " ('i', 'v'): 1,\n",
       " ('v', 'i'): 1,\n",
       " ('i', 'a'): 1,\n",
       " ('<S>', 'a'): 1,\n",
       " ('a', 'v'): 1,\n",
       " ('v', 'a'): 1}"
      ]
     },
     "execution_count": 61,
     "metadata": {},
     "output_type": "execute_result"
    }
   ],
   "source": [
    "b = {}\n",
    "for w in words[:3]:\n",
    "    chs = ['<S>'] + list(w) + ['<E>']\n",
    "    for c1, c2 in zip(chs, chs[1:]):\n",
    "        bigram = (c1, c2)\n",
    "        b[bigram] = b.get(bigram, 0) + 1\n",
    "b\n",
    "        "
   ]
  },
  {
   "cell_type": "code",
   "execution_count": null,
   "id": "635b801a",
   "metadata": {},
   "outputs": [],
   "source": []
  }
 ],
 "metadata": {
  "kernelspec": {
   "display_name": "Python 3 (ipykernel)",
   "language": "python",
   "name": "python3"
  },
  "language_info": {
   "codemirror_mode": {
    "name": "ipython",
    "version": 3
   },
   "file_extension": ".py",
   "mimetype": "text/x-python",
   "name": "python",
   "nbconvert_exporter": "python",
   "pygments_lexer": "ipython3",
   "version": "3.8.10"
  }
 },
 "nbformat": 4,
 "nbformat_minor": 5
}
